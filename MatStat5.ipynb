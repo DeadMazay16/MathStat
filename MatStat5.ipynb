{
 "cells": [
  {
   "cell_type": "code",
   "execution_count": 9,
   "metadata": {},
   "outputs": [],
   "source": [
    "%matplotlib notebook\n",
    "import seaborn as sns\n",
    "import numpy as np\n",
    "from scipy import stats\n",
    "from matplotlib import pyplot as plt"
   ]
  },
  {
   "cell_type": "code",
   "execution_count": 10,
   "metadata": {},
   "outputs": [],
   "source": [
    "N = 100\n",
    "theta = 5\n",
    "sample = stats.pareto(theta).rvs(size=N)"
   ]
  },
  {
   "cell_type": "code",
   "execution_count": 13,
   "metadata": {},
   "outputs": [
    {
     "name": "stdout",
     "output_type": "stream",
     "text": [
      "тета = 5.423 \n",
      "медиана = 1.161\n",
      " [ 1.134 ; 1.206 ] - ассимпт. для медианы\n",
      " [ 4.599 ; 6.331 ] - точный\n",
      " [ 4.556 ; 6.290 ] - ассимптотический\n"
     ]
    }
   ],
   "source": [
    "meanlog = np.log(sample).sum()/N\n",
    "theta1 = 1 + 1/(meanlog)\n",
    "print('тета =', \"%.3f\" % theta1,'\\nмедиана =', \"%.3f\" % np.median(sample))\n",
    "qtl1 = stats.gamma.ppf((1 - 0.95)/2, N, scale=1)\n",
    "qtl2 = stats.gamma.ppf((1 + 0.95)/2, N, scale=1)\n",
    "u = 1.96*np.log(2)*meanlog/N**(1/2)\n",
    "print(' [', \"%.3f\" % ((-u+1)*2**meanlog), \";\", \"%.3f\" % ((u+1)*2**meanlog), '] - ассимпт. для медианы')\n",
    "print(' [', \"%.3f\" % (qtl1/meanlog/N + 1), \";\", \"%.3f\" % (qtl2/meanlog/N + 1), '] - точный')\n",
    "print(' [', \"%.3f\" % (-1.96*1/meanlog/N**(1/2)+theta1), \";\", \"%.3f\" % (1.96*1/meanlog/N**(1/2)+theta1), '] - ассимптотический')"
   ]
  },
  {
   "cell_type": "code",
   "execution_count": 14,
   "metadata": {},
   "outputs": [
    {
     "name": "stdout",
     "output_type": "stream",
     "text": [
      " [ 4.667 ; 6.459 ] - бутстраповский\n"
     ]
    }
   ],
   "source": [
    "M = 1000\n",
    "subsamples = np.zeros((M, N))\n",
    "theta1 = np.zeros((M))\n",
    "\n",
    "for i in range(M):\n",
    "    for j in range(N):\n",
    "        subsamples[i, j] = np.random.choice(sample)\n",
    "    theta1[i] = 1 + N/np.log(subsamples[i]).sum()\n",
    "\n",
    "theta1.sort()\n",
    "print(' [', \"%.3f\" % theta1[24] , \";\", \"%.3f\" % theta1[974], '] - бутстраповский')"
   ]
  },
  {
   "cell_type": "code",
   "execution_count": null,
   "metadata": {},
   "outputs": [],
   "source": []
  }
 ],
 "metadata": {
  "kernelspec": {
   "display_name": "Python 3",
   "language": "python",
   "name": "python3"
  },
  "language_info": {
   "codemirror_mode": {
    "name": "ipython",
    "version": 3
   },
   "file_extension": ".py",
   "mimetype": "text/x-python",
   "name": "python",
   "nbconvert_exporter": "python",
   "pygments_lexer": "ipython3",
   "version": "3.7.3"
  }
 },
 "nbformat": 4,
 "nbformat_minor": 2
}
