{
 "cells": [
  {
   "cell_type": "code",
   "execution_count": 133,
   "metadata": {},
   "outputs": [],
   "source": [
    "def equationNewton(data, n, x):\n",
    "    number = 0\n",
    "    for i in range(len(data[0]) - 1):\n",
    "        if data[0][i + 1] > x :\n",
    "            number = i\n",
    "            break\n",
    "            \n",
    "    indices = []\n",
    "    indices.append([number])\n",
    "    for i in range(n):\n",
    "        k = []\n",
    "        if(indices[i][0] == 0):\n",
    "            for j in range(i + 2):\n",
    "                k.append(j)\n",
    "            indices.append(k)\n",
    "            continue\n",
    "        if(indices[i][-1] == len(data[0]) - 1):\n",
    "            for j in range(i + 2):\n",
    "                k.append(j + indices[i][0])\n",
    "            indices.append(k)\n",
    "            continue     \n",
    "        if( abs(x - data[0][indices[i][0] - 1]) < abs(data[0][indices[i][-1] + 1] - x)  ):\n",
    "            for j in range(i + 2):\n",
    "                k.append(j + indices[i][0] - 1)\n",
    "            indices.append(k)\n",
    "        else:\n",
    "            for j in range(i + 2):\n",
    "                k.append(j + indices[i][0])\n",
    "            indices.append(k)\n",
    "                  \n",
    "    s = \"\"\n",
    "    answ = 0\n",
    "    for i in range(len(indices)):\n",
    "        s += str(data[i + 1][indices[i][0]])\n",
    "        tmp = 1\n",
    "        for j in range(i):\n",
    "            tmp *= x - data[0][number + j]\n",
    "            if(data[0][indices[i][j]] != 0):\n",
    "                s += \"(x - \" + str(data[0][number + j]) + \")\"\n",
    "            else:\n",
    "                s += \"x\"\n",
    "        if i != len(indices) - 1:\n",
    "            s += \" + \"\n",
    "        tmp *= data[i + 1][indices[i][0]]\n",
    "        answ += tmp\n",
    "    print (s)\n",
    "    print (str(answ) + \"\\n\")"
   ]
  },
  {
   "cell_type": "code",
   "execution_count": 135,
   "metadata": {},
   "outputs": [
    {
     "name": "stdout",
     "output_type": "stream",
     "text": [
      "[0.0, 1.0, 2.0, 3.0, 4.0, 5.0, 6.0]\n",
      "  [1.0, 5.0, 33.0, 109.0, 257.0, 501.0, 865.0]\n",
      "    [4.0, 28.0, 76.0, 148.0, 244.0, 364.0]\n",
      "      [12.0, 24.0, 36.0, 48.0, 60.0]\n",
      "        [4.0, 4.0, 4.0, 4.0]\n",
      "          [0.0, 0.0, 0.0]\n",
      "            [0.0, 0.0]\n",
      "              [0.0]\n",
      "\n",
      "\n",
      "1.0 + 4.0x\n",
      "3.0\n",
      "\n",
      "1.0 + 4.0x + 12.0x(x - 1.0)\n",
      "0.0\n",
      "\n",
      "1.0 + 4.0x + 12.0x(x - 1.0) + 4.0x(x - 1.0)(x - 2.0)\n",
      "1.5\n",
      "\n",
      "33.0 + 76.0(x - 2.0)\n",
      "71.0\n",
      "\n",
      "33.0 + 76.0(x - 2.0) + 36.0(x - 2.0)(x - 3.0)\n",
      "62.0\n",
      "\n",
      "33.0 + 76.0(x - 2.0) + 36.0(x - 2.0)(x - 3.0) + 4.0(x - 2.0)(x - 3.0)(x - 4.0)\n",
      "63.5\n",
      "\n"
     ]
    }
   ],
   "source": [
    "x = [0.00, 1.00, 2.00, 3.00, 4.00, 5.00, 6.00]\n",
    "f1 = [1.00, 5.00, 33.00, 109.00, 257.00, 501.00, 865.00]\n",
    "data = [x , f1]\n",
    "\n",
    "odds(data)\n",
    "printData(data)\n",
    "equationNewton(data, 1, 0.5)\n",
    "equationNewton(data, 2, 0.5)\n",
    "equationNewton(data, 3, 0.5)\n",
    "equationNewton(data, 1, 2.5)\n",
    "equationNewton(data, 2, 2.5)\n",
    "equationNewton(data, 3, 2.5)\n"
   ]
  },
  {
   "cell_type": "code",
   "execution_count": 134,
   "metadata": {},
   "outputs": [],
   "source": [
    "def odds(data):\n",
    "    for i in range(len(data[0]) - 1):\n",
    "        data.append([])\n",
    "        for j in range(len(data[i + 1]) - 1):\n",
    "            data[i + 2].append((data[i + 1][j + 1] - data[i + 1][j]) / (data[0][j + i + 1] - data[0][j]))"
   ]
  },
  {
   "cell_type": "code",
   "execution_count": 126,
   "metadata": {},
   "outputs": [],
   "source": [
    "def derivative(el):\n",
    "    res = 0\n",
    "    for i in range(n - 1):\n",
    "        proisv = 1\n",
    "        sum = 0\n",
    "        for k in range(i + 1):\n",
    "            if el != x[k]:\n",
    "                proisv *= (el - x[k])\n",
    "        for j in range(i + 1):\n",
    "            if el != x[j]:\n",
    "                sum += proisv / (el - x[j])\n",
    "        res += data[i + 2][0] * sum\n",
    "    return res"
   ]
  },
  {
   "cell_type": "code",
   "execution_count": 117,
   "metadata": {},
   "outputs": [],
   "source": [
    "def printData(data):\n",
    "    for i in range(len(data)):\n",
    "        print (\"  \" * i + str(data[i]))\n",
    "    print(\"\\n\")"
   ]
  },
  {
   "cell_type": "code",
   "execution_count": null,
   "metadata": {},
   "outputs": [],
   "source": []
  },
  {
   "cell_type": "code",
   "execution_count": null,
   "metadata": {},
   "outputs": [],
   "source": []
  }
 ],
 "metadata": {
  "kernelspec": {
   "display_name": "Python 3",
   "language": "python",
   "name": "python3"
  },
  "language_info": {
   "codemirror_mode": {
    "name": "ipython",
    "version": 3
   },
   "file_extension": ".py",
   "mimetype": "text/x-python",
   "name": "python",
   "nbconvert_exporter": "python",
   "pygments_lexer": "ipython3",
   "version": "3.7.3"
  }
 },
 "nbformat": 4,
 "nbformat_minor": 2
}
