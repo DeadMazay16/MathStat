{
 "cells": [
  {
   "cell_type": "code",
   "execution_count": 12,
   "metadata": {
    "scrolled": true
   },
   "outputs": [],
   "source": [
    "import sympy\n",
    "import numpy as np\n",
    "\n",
    "\n",
    "t = [1.0, 1.5, 2.0, 2.5, 3.0, 3.5, 4.0, 4.5, 5.0]\n",
    "f = [37.3, 37.58, 37.86, 38.21, 38.7, 39.26, 40.17, 40.17, 40.17]\n",
    "data = [t, f]\n",
    "odds(data)\n",
    "\n",
    "x = sympy.Symbol('x')\n",
    "polyN = data[1][0]\n",
    "\n",
    "for i in range(2, len(data)):\n",
    "    tmp = data[i][0]\n",
    "    for j in range(i - 1):\n",
    "        tmp = tmp * (x - t[j])\n",
    "    polyN += tmp\n",
    "\n",
    "diffPolyN = polyN.diff(x)\n",
    "xdif = np.linspace(1, 4, 100000)\n",
    "ydif = []\n",
    "max = 0\n",
    "amxi = 0;\n",
    "for i in range(len(xdif)):\n",
    "    ydif.append(diffPolyN.subs({x:xdif[i]}))\n",
    "    if(max < ydif[-1]):\n",
    "        max = ydif[-1]\n",
    "        maxi = i\n"
   ]
  },
  {
   "cell_type": "code",
   "execution_count": 2,
   "metadata": {},
   "outputs": [],
   "source": [
    "def odds(data):\n",
    "    for i in range(len(data[0]) - 1):\n",
    "        data.append([])\n",
    "        for j in range(len(data[i + 1]) - 1):\n",
    "            data[i + 2].append((data[i + 1][j + 1] - data[i + 1][j]) / (data[0][j + i + 1] - data[0][j]))"
   ]
  },
  {
   "cell_type": "code",
   "execution_count": 3,
   "metadata": {},
   "outputs": [],
   "source": [
    "def printData(data):\n",
    "    for i in range(len(data)):\n",
    "        print (\"  \" * i + str(data[i]))\n",
    "    print(\"\\n\")"
   ]
  },
  {
   "cell_type": "code",
   "execution_count": 14,
   "metadata": {},
   "outputs": [
    {
     "data": {
      "text/plain": [
       "39.8325371842202"
      ]
     },
     "execution_count": 14,
     "metadata": {},
     "output_type": "execute_result"
    }
   ],
   "source": [
    "polyN.subs({x:xdif[maxi]})"
   ]
  },
  {
   "cell_type": "code",
   "execution_count": 13,
   "metadata": {},
   "outputs": [
    {
     "name": "stdout",
     "output_type": "stream",
     "text": [
      "3.820118201182012\n"
     ]
    }
   ],
   "source": [
    "print(xdif[maxi])"
   ]
  },
  {
   "cell_type": "code",
   "execution_count": 4,
   "metadata": {},
   "outputs": [
    {
     "name": "stdout",
     "output_type": "stream",
     "text": [
      "39.8405988836796 3.8242187500000107\n"
     ]
    }
   ],
   "source": [
    "left = t[0]\n",
    "right = t[6]\n",
    "fl = diffPolyN.subs({x:left})\n",
    "fr = diffPolyN.subs({x:right})\n",
    "tmp = 0\n",
    "ftmp = 0\n",
    "while right - left > 1e-20:\n",
    "    tmp = (left + right) / 2.\n",
    "    ftmp = diffPolyN.subs({x:tmp})\n",
    "    if ftmp > fl:\n",
    "        left = tmp\n",
    "        fl = ftmp\n",
    "    elif ftmp > fr:\n",
    "        right = tmp\n",
    "        fr = ftmp\n",
    "    else:\n",
    "        if fr >= fl:\n",
    "            ftmp = fr\n",
    "            tmp = right\n",
    "        else:\n",
    "            ftmp = fl\n",
    "            tmp = left\n",
    "            break\n",
    "\n",
    "print(polyN.subs({x:tmp}), tmp)"
   ]
  },
  {
   "cell_type": "code",
   "execution_count": 6,
   "metadata": {},
   "outputs": [
    {
     "name": "stdout",
     "output_type": "stream",
     "text": [
      "39.8405988836796 3.8242187500000107\n"
     ]
    }
   ],
   "source": []
  },
  {
   "cell_type": "code",
   "execution_count": null,
   "metadata": {},
   "outputs": [],
   "source": []
  }
 ],
 "metadata": {
  "kernelspec": {
   "display_name": "Python 3",
   "language": "python",
   "name": "python3"
  },
  "language_info": {
   "codemirror_mode": {
    "name": "ipython",
    "version": 3
   },
   "file_extension": ".py",
   "mimetype": "text/x-python",
   "name": "python",
   "nbconvert_exporter": "python",
   "pygments_lexer": "ipython3",
   "version": "3.7.3"
  }
 },
 "nbformat": 4,
 "nbformat_minor": 2
}
