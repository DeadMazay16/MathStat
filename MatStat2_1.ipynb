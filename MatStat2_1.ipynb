{
 "cells": [
  {
   "cell_type": "code",
   "execution_count": 9,
   "metadata": {},
   "outputs": [],
   "source": [
    "import statsmodels.api as sm\n",
    "import numpy as np\n",
    "from scipy import stats\n",
    "from matplotlib import pyplot as plt"
   ]
  },
  {
   "cell_type": "code",
   "execution_count": 10,
   "metadata": {},
   "outputs": [],
   "source": [
    "N = 50\n",
    "sample = stats.uniform.rvs(size=N*5)*2 - 1\n",
    "sample = sample.reshape((N, 5))\n",
    "eta = np.zeros((N))\n",
    "\n",
    "C = [2, 3, -2, 1, 1, -1]\n",
    "\n",
    "for i in range(N):\n",
    "    eta[i] = np.random.normal(C[0] + C[1:] @ sample[i].T, 1.5)"
   ]
  },
  {
   "cell_type": "code",
   "execution_count": 11,
   "metadata": {},
   "outputs": [],
   "source": [
    "def rss0(x):\n",
    "    return sum([(a - np.mean(x))**2 for a in x])\n"
   ]
  },
  {
   "cell_type": "code",
   "execution_count": 12,
   "metadata": {},
   "outputs": [],
   "source": [
    "def regression(psi, eta):\n",
    "\n",
    "    F = psi.T @ psi\n",
    "    F_inv = np.linalg.inv(F)\n",
    "    b = (F_inv @ psi.T) @ eta.T\n",
    "    e = eta - (psi @ b.T).T\n",
    "    RSSy = e @ e.T\n",
    "    RSS0y = rss0(eta)\n",
    "\n",
    "    R = (RSS0y - RSSy)/RSS0y\n",
    "    \n",
    "    delta = [b[i]*((N - len(psi[0]))/(RSSy*F_inv[i][i]))**(1/2) \\\n",
    "             for i in range(len(psi[0]))]\n",
    "    b_p_value = 2*(1 - stats.t.cdf(np.abs(delta), N - np.shape(psi)[1]))\n",
    "    \n",
    "    return b, b_p_value, RSSy, RSS0y, R"
   ]
  },
  {
   "cell_type": "code",
   "execution_count": 13,
   "metadata": {},
   "outputs": [
    {
     "name": "stdout",
     "output_type": "stream",
     "text": [
      "R_xi^2 = [0.022 0.013 0.003 0.009 0.009] -> мультиколлинеарности нет\n",
      "\n"
     ]
    }
   ],
   "source": [
    "RSS0_xi = np.zeros(5)\n",
    "RSS_xi = np.zeros(5)\n",
    "R_xi = np.zeros(5)\n",
    "\n",
    "for i in range(5):\n",
    "    psi_xi = np.copy(sample)\n",
    "    for j in range(N):\n",
    "        psi_xi[j][i] = 1\n",
    "    \n",
    "    RSS_xi[i] = regression(psi_xi, sample.T[i])[2]\n",
    "    RSS0_xi[i] = regression(psi_xi, sample.T[i])[3]\n",
    "    R_xi[i] = (RSS0_xi[i] - RSS_xi[i])/RSS0_xi[i]\n",
    "    \n",
    "    \n",
    "print(\"R_xi^2 =\", np.around((R_xi**2), decimals=3), \"-> мультиколлинеарности нет\\n\")"
   ]
  },
  {
   "cell_type": "code",
   "execution_count": 14,
   "metadata": {},
   "outputs": [
    {
     "name": "stdout",
     "output_type": "stream",
     "text": [
      " b = [ 1.386  2.877 -2.393  0.716  1.197 -0.46 ]\n",
      " p-value = [0.    0.    0.    0.125 0.013 0.37 ] -> 3 (и иногда 5) не значимы\n",
      "\n"
     ]
    }
   ],
   "source": [
    "tmp = np.copy(sample)\n",
    "psi = np.empty((N, 6))\n",
    "\n",
    "for i in range(N):\n",
    "     psi[i] = np.insert(tmp[i], 0, 1)\n",
    "        \n",
    "b, b_p_value, RSSy, RSS0y, R = regression(psi, eta)\n",
    "\n",
    "F = psi.T @ psi\n",
    "F_inv = np.linalg.inv(F)\n",
    "e = (eta - psi @ b.T).T\n",
    "\n",
    "print(\" b =\", np.around((b), decimals=3))\n",
    "print(\" p-value =\", np.around((b_p_value), decimals=3),'-> 3 (и иногда 5) не значимы\\n')"
   ]
  },
  {
   "cell_type": "code",
   "execution_count": 15,
   "metadata": {},
   "outputs": [
    {
     "name": "stdout",
     "output_type": "stream",
     "text": [
      "RSS0y = 362.548\n",
      "RSSy = 145.031\n",
      "R = 0.600\n",
      "R p-value = 0.000\n"
     ]
    }
   ],
   "source": [
    "print(\"RSS0y =\", \"%.3f\" % RSS0y)\n",
    "print(\"RSSy =\", \"%.3f\" % RSSy)\n",
    "print(\"R =\", \"%.3f\" % R)\n",
    "\n",
    "delta_R = R/(1 - R)*(N - 6)/5\n",
    "\n",
    "R_p_value = 1 - stats.f.cdf(np.abs(delta_R), 5, N - 6)\n",
    "print(\"R p-value =\", \"%.3f\" % R_p_value)"
   ]
  },
  {
   "cell_type": "code",
   "execution_count": 18,
   "metadata": {},
   "outputs": [
    {
     "name": "stdout",
     "output_type": "stream",
     "text": [
      "eta0 = 1.655\n",
      "y0 = 1.386\n",
      "[ -2.311 : 5.084 ] - дов. интервал\n",
      "\n"
     ]
    }
   ],
   "source": [
    "x0 = np.array([0, 0, 0, 0, 0])\n",
    "psi_x0 = np.insert(x0, 0, 1)\n",
    "\n",
    "eta0 = np.random.normal(C[0] + C[1:] @ x0.T, 1.5)\n",
    "print(\"eta0 =\", \"%.3f\" % eta0)\n",
    "\n",
    "y0 = b[0] + b[1:] @ x0.T\n",
    "print(\"y0 =\", \"%.3f\" % y0)\n",
    "\n",
    "delta = stats.t.ppf(1.95/2, N - 6)*(1 + (psi_x0 @ F_inv) @ psi_x0.T)**(1/2)*(RSSy/(N - 6))**(1/2)\n",
    "\n",
    "print('[', \"%.3f\" % (y0 - delta),':', \"%.3f\" % (y0 + delta), \"] - дов. интервал\\n\")"
   ]
  },
  {
   "cell_type": "code",
   "execution_count": 19,
   "metadata": {},
   "outputs": [
    {
     "name": "stdout",
     "output_type": "stream",
     "text": [
      " p-value = 0.471 -> не отвергаем гипотезу случайности ошибок\n",
      "\n"
     ]
    }
   ],
   "source": [
    "I=0\n",
    "for i in range(N):\n",
    "    for j in range (i + 1, N):\n",
    "        if(e[i] > e[j]):\n",
    "            I += 1\n",
    "\n",
    "delta = (I - N*(N - 1)/4)/(N**3/36)**(1/2)\n",
    "\n",
    "p_value = 2*(1 - stats.norm.cdf(abs(delta)))\n",
    "print(\" p-value =\", \"%.3f\" % p_value, '-> не отвергаем гипотезу случайности ошибок\\n')"
   ]
  },
  {
   "cell_type": "code",
   "execution_count": 20,
   "metadata": {},
   "outputs": [
    {
     "name": "stdout",
     "output_type": "stream",
     "text": [
      "p-value = 0.569 -> не отвергаем гипотезу норм. распр. ошибок\n"
     ]
    }
   ],
   "source": [
    "M = 5000\n",
    "D = np.zeros(M)\n",
    "s = np.zeros((M,N))\n",
    "sigma_est = np.mean((e - np.mean(e))**2)**(1/2)\n",
    "\n",
    "def sup(z, sigma):\n",
    "    \n",
    "    w = np.zeros(N)\n",
    "    \n",
    "    ecdf = sm.distributions.ECDF(z)\n",
    "    u = ecdf(z)\n",
    "    v = stats.norm.cdf(z, 0, sigma)\n",
    "    w[0] = np.max((v[0], np.abs(v[0] - u[0])))\n",
    "    \n",
    "    for i in range(1, N):\n",
    "        w[i] = np.max((np.abs(v[i] - u[i]), np.abs(v[i] - u[i - 1])))\n",
    "    \n",
    "    return np.max(w)\n",
    "\n",
    "for i in range(M):\n",
    "    for j in range(N):\n",
    "        a = np.random.uniform()\n",
    "        s[i][j] = stats.norm.ppf(a, 0, sigma_est)\n",
    "    sigma = np.mean((s[i] - np.mean(s[i]))**2)**(1/2)\n",
    "    D[i] = sup(s[i], sigma)\n",
    "    \n",
    "D = np.sort(D)     \n",
    "d = sup(e, sigma_est)\n",
    "p_value = 0\n",
    "\n",
    "for i in range(M):\n",
    "    if (D[i] > d):\n",
    "        p_value = 1 - i/M\n",
    "        break\n",
    "        \n",
    "print(\"p-value =\", \"%.3f\" % p_value, \"-> не отвергаем гипотезу норм. распр. ошибок\")"
   ]
  },
  {
   "cell_type": "code",
   "execution_count": 21,
   "metadata": {},
   "outputs": [
    {
     "name": "stdout",
     "output_type": "stream",
     "text": [
      "R_CV = 0.653 -> высокая точность предсказаний\n"
     ]
    }
   ],
   "source": [
    "RSS_CV = 0\n",
    "\n",
    "for i in range(N):    \n",
    "    tmp = np.delete(sample, i, axis = 0)\n",
    "    eta_CV = np.delete(eta, i, axis = 0)\n",
    "    psi_CV = np.empty([N - 1, 6])\n",
    "    for i in range(N - 1):\n",
    "         psi_CV[i] = np.insert(tmp[i], 0, 1)\n",
    "\n",
    "    F_CV = psi_CV.T @ psi_CV\n",
    "    F_inv_CV = np.linalg.inv(F_CV)\n",
    "    b_CV = (F_inv_CV @ psi_CV.T) @ eta_CV.T\n",
    "    RSS_CV += (eta[i] - b_CV[0] - b_CV[1:] @ sample[i])**2\n",
    "\n",
    "R_CV = (RSS0y - RSS_CV)/RSS0y\n",
    "print(\"R_CV =\", \"%.3f\" % R_CV, \"-> высокая точность предсказаний\")"
   ]
  },
  {
   "cell_type": "code",
   "execution_count": 22,
   "metadata": {},
   "outputs": [
    {
     "name": "stdout",
     "output_type": "stream",
     "text": [
      "p-value = 0.728 -> модель регрессии адекватна\n"
     ]
    }
   ],
   "source": [
    "x = sample[0]\n",
    "y = np.array([np.random.normal(C[0] + C[1:] @ x.T, 1.5) \\\n",
    "              for i in range(5)])\n",
    "\n",
    "delta = (N - 6)*((y - np.mean(y)) @ (y - np.mean(y)).T)/RSSy/4\n",
    "p_value = 1 - stats.f.cdf(np.abs(delta), 4, 5)\n",
    "\n",
    "print(\"p-value =\", \"%.3f\" % p_value, '-> модель регрессии адекватна')"
   ]
  },
  {
   "cell_type": "code",
   "execution_count": 24,
   "metadata": {},
   "outputs": [
    {
     "name": "stdout",
     "output_type": "stream",
     "text": [
      "4 кси наименее значим\n",
      "\n",
      " Для упрощенной модели:\n",
      "b = [ 1.415  2.813 -2.357  0.746  1.08 ]\n",
      "p-value = [0.    0.    0.    0.109 0.019]\n",
      "p-value = 0.000\n",
      "\n",
      "В сравнении:\n",
      "p-value = 0.475 -> упрощение не делает погоды:)\n"
     ]
    }
   ],
   "source": [
    "print(np.argmax(b_p_value) - 1, 'кси наименее значим')\n",
    "\n",
    "psi_simp = np.delete(psi, np.argmax(b_p_value), axis = 1)\n",
    "b_simp, b_p_value_simp, RSSy_simp, RSS0y_simp, R_simp = regression(psi_simp, eta)\n",
    "print(\"\\n Для упрощенной модели:\")\n",
    "print(\"b =\", np.around((b_simp), decimals=3))\n",
    "print(\"p-value =\", np.around((b_p_value_simp), decimals=3))\n",
    "\n",
    "delta_R_simp = R_simp/(1 - R_simp)*(N - 5)/4\n",
    "p_value_simp = 1 - stats.f.cdf(np.abs(delta_R_simp), 4, N - 5)\n",
    "\n",
    "print(\"p-value =\", \"%.3f\" % p_value_simp)\n",
    "\n",
    "print(\"\\nВ сравнении:\")\n",
    "delta_regression = (RSSy_simp - RSSy)/RSSy*(N - 6)\n",
    "p_value = 1 - stats.f.cdf(np.abs(delta), 1, N - 6)\n",
    "print(\"p-value =\", \"%.3f\" % p_value, \"-> упрощение не делает погоды:)\")"
   ]
  },
  {
   "cell_type": "code",
   "execution_count": 25,
   "metadata": {},
   "outputs": [
    {
     "name": "stdout",
     "output_type": "stream",
     "text": [
      "p-value = 0.342\n"
     ]
    }
   ],
   "source": [
    "M = 1000\n",
    "B_delta = np.empty(M)\n",
    "\n",
    "for i in range(M): \n",
    "    psi1 = np.empty((N,6))\n",
    "    eta1 = np.empty(N)\n",
    "    for j in range(N):\n",
    "        q = np.random.choice(range(N))\n",
    "        psi1[j] = psi[q]\n",
    "        eta1[j] = eta[q]\n",
    "        \n",
    "    b1, b1_p_v, RSSy1, RSS0y1, Ry1 = regression(psi1, eta1)\n",
    "    b2, b2_p_v, RSSy2, RSS0y2, Ry2 = \\\n",
    "    regression(np.delete(psi1, np.argmax(b1_p_v), axis = 1), eta1)\n",
    "    \n",
    "    B_delta[i] = (RSSy2/RSSy1 - 1)*(N - 6)\n",
    "    \n",
    "B_delta = np.sort(B_delta)\n",
    "p_value = 0\n",
    "\n",
    "for i in range(M):\n",
    "    if (B_delta[i] > delta_regression):\n",
    "        p_value = 1 - i/M\n",
    "        break\n",
    "        \n",
    "print(\"p-value =\", \"%.3f\" % p_value)"
   ]
  },
  {
   "cell_type": "code",
   "execution_count": null,
   "metadata": {},
   "outputs": [],
   "source": []
  }
 ],
 "metadata": {
  "kernelspec": {
   "display_name": "Python 3",
   "language": "python",
   "name": "python3"
  },
  "language_info": {
   "codemirror_mode": {
    "name": "ipython",
    "version": 3
   },
   "file_extension": ".py",
   "mimetype": "text/x-python",
   "name": "python",
   "nbconvert_exporter": "python",
   "pygments_lexer": "ipython3",
   "version": "3.7.3"
  }
 },
 "nbformat": 4,
 "nbformat_minor": 2
}
