{
 "cells": [
  {
   "cell_type": "code",
   "execution_count": 5,
   "metadata": {},
   "outputs": [],
   "source": [
    "import statsmodels.api as sm\n",
    "import numpy as np\n",
    "from scipy import stats\n",
    "from matplotlib import pyplot as plt"
   ]
  },
  {
   "cell_type": "code",
   "execution_count": 15,
   "metadata": {},
   "outputs": [],
   "source": [
    "N = 50\n",
    "A = np.array([[83, 85], [84, 85, 85, 86, 86, 87], [86, 87, 87, 87, 88, 88, 88, 88, 88, 89, 90], [89, 90, 90, 91], [90, 92]])"
   ]
  },
  {
   "cell_type": "code",
   "execution_count": 16,
   "metadata": {},
   "outputs": [],
   "source": [
    "def regression(psi, eta):\n",
    "\n",
    "    F = psi.T @ psi\n",
    "    F_inv = np.linalg.inv(F)\n",
    "    b = (F_inv @ psi.T) @ eta.T\n",
    "    e = eta - (psi @ b.T).T\n",
    "    RSSy = e @ e.T\n",
    "    RSS0y = rss0(eta)\n",
    "\n",
    "    R = (RSS0y - RSSy)/RSS0y\n",
    "    \n",
    "    delta = [b[i]*((N - len(psi[0]))/(RSSy*F_inv[i][i]))**(1/2) \\\n",
    "             for i in range(len(psi[0]))]\n",
    "    b_p_value = 2*(1 - stats.t.cdf(np.abs(delta), N - np.shape(psi)[1]))\n",
    "    \n",
    "    return b, b_p_value, RSSy, RSS0y, R"
   ]
  },
  {
   "cell_type": "code",
   "execution_count": 17,
   "metadata": {},
   "outputs": [],
   "source": [
    "def rss0(x):\n",
    "    return sum([(a - np.mean(x))**2 for a in x])"
   ]
  },
  {
   "cell_type": "code",
   "execution_count": 18,
   "metadata": {},
   "outputs": [
    {
     "name": "stdout",
     "output_type": "stream",
     "text": [
      "b = [84.    85.5   87.818 90.    91.   ]\n",
      "p-value = [0. 0. 0. 0. 0.]\n",
      "R = 0.811\n",
      "p-value = 0.000\n"
     ]
    }
   ],
   "source": [
    "k = 0\n",
    "size = 0\n",
    "for a in A:\n",
    "    size += len(a)\n",
    "\n",
    "psi = np.zeros((size, len(A)))\n",
    "eta = np.zeros(size)\n",
    "\n",
    "for i in range(len(A)):\n",
    "    for j in range(len(A[i])):\n",
    "        eta[k] = A[i][j]\n",
    "        psi[k][i] = 1\n",
    "        k += 1\n",
    "\n",
    "F = psi.T @ psi\n",
    "F_inv = np.linalg.inv(F)\n",
    "    \n",
    "b, b_p_value, RSS, RSS0, R = regression(psi, eta)\n",
    "\n",
    "print(\"b =\", np.around((b), decimals=3))\n",
    "print(\"p-value =\", np.around((b_p_value), decimals=3))\n",
    "print (\"R =\", \"%.3f\" % R)\n",
    "\n",
    "delta_R = R/(1 - R)*(size - len(A))/(len(A) - 1)\n",
    "R_p_value = 1 - stats.f.cdf(np.abs(delta_R), len(A) - 1, size - len(A))\n",
    "print(\"p-value =\", \"%.3f\" % R_p_value)"
   ]
  },
  {
   "cell_type": "code",
   "execution_count": 19,
   "metadata": {},
   "outputs": [
    {
     "name": "stdout",
     "output_type": "stream",
     "text": [
      " p-value(ij):  {'0<->1': 0.103, '0<->2': 0.0, '0<->3': 0.0, '0<->4': 0.0, '1<->2': 0.0, '1<->3': 0.0, '1<->4': 0.0, '2<->3': 0.002, '2<->4': 0.001, '3<->4': 0.296}\n",
      " возрастные группы 0,1 и 3,4 похожи\n"
     ]
    }
   ],
   "source": [
    "delta_ij = np.zeros(int(len(A)*(len(A) - 1)/2))\n",
    "p_value_ij = {}\n",
    "\n",
    "for i in range(len(A)):\n",
    "    for j in range(i + 1, len(A)):\n",
    "        l = i*(len(A)-1-i) + j-1 + (i-1)*((i-1) > 0) + ((i-2) > 0)\n",
    "        \n",
    "        delta_ij[l] = np.abs((b[i] - b[j])*\\\n",
    "                                (size-len(A))**(1/2)/(RSS*\\\n",
    "                                 (F_inv[i][i] + F_inv[j][j]))**0.5)\n",
    "        p_value_ij[str(i)+'<->'+str(j)] = np.around((2*\\\n",
    "            (1 - stats.t.cdf(delta_ij[l], size-len(A)))), decimals=3)\n",
    "\n",
    "print(\" p-value(ij): \", p_value_ij)\n",
    "print(\" возрастные группы 0,1 и 3,4 похожи\")"
   ]
  },
  {
   "cell_type": "code",
   "execution_count": null,
   "metadata": {},
   "outputs": [],
   "source": []
  }
 ],
 "metadata": {
  "kernelspec": {
   "display_name": "Python 3",
   "language": "python",
   "name": "python3"
  },
  "language_info": {
   "codemirror_mode": {
    "name": "ipython",
    "version": 3
   },
   "file_extension": ".py",
   "mimetype": "text/x-python",
   "name": "python",
   "nbconvert_exporter": "python",
   "pygments_lexer": "ipython3",
   "version": "3.7.3"
  }
 },
 "nbformat": 4,
 "nbformat_minor": 2
}
