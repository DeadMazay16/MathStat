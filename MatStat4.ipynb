{
 "cells": [
  {
   "cell_type": "code",
   "execution_count": 1,
   "metadata": {},
   "outputs": [],
   "source": [
    "%matplotlib notebook\n",
    "import seaborn as sns\n",
    "import numpy as np\n",
    "from scipy import stats\n",
    "from matplotlib import pyplot as plt"
   ]
  },
  {
   "cell_type": "code",
   "execution_count": 2,
   "metadata": {},
   "outputs": [],
   "source": [
    "N=100\n",
    "theta = 30\n",
    "sample = stats.uniform.rvs(size=N)*theta"
   ]
  },
  {
   "cell_type": "code",
   "execution_count": 3,
   "metadata": {},
   "outputs": [
    {
     "name": "stdout",
     "output_type": "stream",
     "text": [
      " [ 29.841 ; 30.955 ] - точный\n",
      " [ 24.562 ; 34.205 ] - ассимптотический\n"
     ]
    }
   ],
   "source": [
    "\n",
    "m = sample.max()\n",
    "al1 = np.mean(sample)\n",
    "al2 = stats.moment(sample, moment=2)*N/(N-1)\n",
    "\n",
    "print(' [', \"%.3f\" % (m/((1+0.95)/2)**(1/N)),\";\", \"%.3f\" % (m/((1-0.95)/2)**(1/N)), '] - точный')\n",
    "print(' [', \"%.3f\" % (2*(al1 - 1.96*((-al2+al1**2)/N)**(1/2))),\";\", \"%.3f\" % (2*(al1 + 1.96*((-al2+al1**2)/N)**(1/2))),'] - ассимптотический')"
   ]
  },
  {
   "cell_type": "code",
   "execution_count": 5,
   "metadata": {},
   "outputs": [
    {
     "name": "stdout",
     "output_type": "stream",
     "text": [
      " [ 26.269 ; 32.335 ] - точный\n",
      " [ 28.965 ; 29.834 ] - ассимптотический\n"
     ]
    }
   ],
   "source": [
    "\n",
    "M = 1000\n",
    "subsamples = np.zeros((M, N))\n",
    "theta1 = np.zeros((M))\n",
    "theta2 = np.zeros((M))\n",
    "\n",
    "for i in range(M):\n",
    "    for j in range(N):\n",
    "        subsamples[i, j] = np.random.choice(sample)\n",
    "    theta1[i] = 2*np.mean(subsamples[i])\n",
    "    theta2[i] = subsamples[i].max()\n",
    "    \n",
    "ttheta1 = 2*al1\n",
    "ttheta2 = sample.max()\n",
    "\n",
    "theta1.sort()\n",
    "theta2.sort()\n",
    "\n",
    "print(' [', \"%.3f\" % theta1[24] , \";\", \"%.3f\" % theta1[974],'] - точный')\n",
    "print(' [', \"%.3f\" % theta2[24] , \";\", \"%.3f\" % theta2[974],'] - ассимптотический')"
   ]
  },
  {
   "cell_type": "code",
   "execution_count": null,
   "metadata": {},
   "outputs": [],
   "source": []
  }
 ],
 "metadata": {
  "kernelspec": {
   "display_name": "Python 3",
   "language": "python",
   "name": "python3"
  },
  "language_info": {
   "codemirror_mode": {
    "name": "ipython",
    "version": 3
   },
   "file_extension": ".py",
   "mimetype": "text/x-python",
   "name": "python",
   "nbconvert_exporter": "python",
   "pygments_lexer": "ipython3",
   "version": "3.7.3"
  }
 },
 "nbformat": 4,
 "nbformat_minor": 2
}
